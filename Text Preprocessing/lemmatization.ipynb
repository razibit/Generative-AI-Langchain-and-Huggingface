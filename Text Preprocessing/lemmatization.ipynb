{
 "cells": [
  {
   "metadata": {
    "collapsed": true,
    "ExecuteTime": {
     "end_time": "2024-11-09T04:52:37.236979Z",
     "start_time": "2024-11-09T04:52:37.227303Z"
    }
   },
   "cell_type": "code",
   "source": "from nltk.stem import WordNetLemmatizer",
   "id": "initial_id",
   "outputs": [],
   "execution_count": 2
  },
  {
   "metadata": {
    "ExecuteTime": {
     "end_time": "2024-11-09T04:52:37.722017Z",
     "start_time": "2024-11-09T04:52:37.714972Z"
    }
   },
   "cell_type": "code",
   "source": "lemmatizer_01 = WordNetLemmatizer()",
   "id": "65eb741fbb0abc11",
   "outputs": [],
   "execution_count": 3
  },
  {
   "metadata": {
    "ExecuteTime": {
     "end_time": "2024-11-09T05:29:45.890255Z",
     "start_time": "2024-11-09T05:29:45.879662Z"
    }
   },
   "cell_type": "code",
   "source": "lemmatizer_01.lemmatize(\"ensuring\",pos='v')",
   "id": "9409d3801e89fc17",
   "outputs": [
    {
     "data": {
      "text/plain": [
       "'ensure'"
      ]
     },
     "execution_count": 16,
     "metadata": {},
     "output_type": "execute_result"
    }
   ],
   "execution_count": 16
  },
  {
   "metadata": {
    "ExecuteTime": {
     "end_time": "2024-11-09T05:35:52.446034Z",
     "start_time": "2024-11-09T05:35:52.412708Z"
    }
   },
   "cell_type": "code",
   "source": "lemmatizer_01.lemmatize(\"better\",pos='a')",
   "id": "76fba2498f545124",
   "outputs": [
    {
     "data": {
      "text/plain": [
       "'good'"
      ]
     },
     "execution_count": 28,
     "metadata": {},
     "output_type": "execute_result"
    }
   ],
   "execution_count": 28
  },
  {
   "metadata": {
    "ExecuteTime": {
     "end_time": "2024-11-09T04:54:14.224335Z",
     "start_time": "2024-11-09T04:54:14.216639Z"
    }
   },
   "cell_type": "code",
   "source": "lemmatizer_01.lemmatize(\"going\", pos='v')",
   "id": "febce17f7231d42d",
   "outputs": [
    {
     "data": {
      "text/plain": [
       "'go'"
      ]
     },
     "execution_count": 6,
     "metadata": {},
     "output_type": "execute_result"
    }
   ],
   "execution_count": 6
  },
  {
   "metadata": {
    "ExecuteTime": {
     "end_time": "2024-11-09T05:16:36.417577Z",
     "start_time": "2024-11-09T05:16:36.385234Z"
    }
   },
   "cell_type": "code",
   "source": "words = [\"Popularize\",\"Running\",\"better\",\"geese\",\"children\"]",
   "id": "2d0eafb65bc010c5",
   "outputs": [],
   "execution_count": 7
  },
  {
   "metadata": {},
   "cell_type": "markdown",
   "source": [
    "**POS**\n",
    "````\n",
    "    Noun - n\n",
    "    Verb - v\n",
    "    adjective - a\n",
    "    adverb - r "
   ],
   "id": "8f89d79ef7a4cee6"
  },
  {
   "metadata": {
    "ExecuteTime": {
     "end_time": "2024-11-09T05:37:30.723289Z",
     "start_time": "2024-11-09T05:37:30.710983Z"
    }
   },
   "cell_type": "code",
   "source": [
    "for word in words:\n",
    "    print(word+ \" ----> \"+lemmatizer_01.lemmatize(word,pos='n'))"
   ],
   "id": "cdf36475aec4a92c",
   "outputs": [
    {
     "name": "stdout",
     "output_type": "stream",
     "text": [
      "Popularize ----> Popularize\n",
      "Running ----> Running\n",
      "better ----> better\n",
      "geese ----> goose\n",
      "children ----> child\n"
     ]
    }
   ],
   "execution_count": 32
  },
  {
   "metadata": {},
   "cell_type": "code",
   "outputs": [],
   "execution_count": null,
   "source": "",
   "id": "adf236c0e9ded385"
  }
 ],
 "metadata": {
  "kernelspec": {
   "display_name": "Python 3",
   "language": "python",
   "name": "python3"
  },
  "language_info": {
   "codemirror_mode": {
    "name": "ipython",
    "version": 2
   },
   "file_extension": ".py",
   "mimetype": "text/x-python",
   "name": "python",
   "nbconvert_exporter": "python",
   "pygments_lexer": "ipython2",
   "version": "2.7.6"
  }
 },
 "nbformat": 4,
 "nbformat_minor": 5
}
