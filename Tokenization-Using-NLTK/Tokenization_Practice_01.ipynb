{
 "cells": [
  {
   "cell_type": "code",
   "id": "initial_id",
   "metadata": {
    "collapsed": true
   },
   "source": "!pip install nltk",
   "outputs": [],
   "execution_count": null
  },
  {
   "metadata": {
    "ExecuteTime": {
     "end_time": "2024-11-07T17:23:03.870664Z",
     "start_time": "2024-11-07T17:23:03.865800Z"
    }
   },
   "cell_type": "code",
   "source": "corpus=\"\"\"Hello there! I am Rajib Deb. I am an AI,ML enthusiast. \"\"\"",
   "id": "cef231bbe565c889",
   "outputs": [],
   "execution_count": 7
  },
  {
   "metadata": {
    "ExecuteTime": {
     "end_time": "2024-11-07T17:23:05.065824Z",
     "start_time": "2024-11-07T17:23:05.056911Z"
    }
   },
   "cell_type": "code",
   "source": "corpus",
   "id": "f0d7166fa18f5c26",
   "outputs": [
    {
     "data": {
      "text/plain": [
       "'Hello there! I am Rajib Deb. I am an AI,ML enthusiast. '"
      ]
     },
     "execution_count": 8,
     "metadata": {},
     "output_type": "execute_result"
    }
   ],
   "execution_count": 8
  },
  {
   "metadata": {
    "ExecuteTime": {
     "end_time": "2024-11-07T17:23:30.477945Z",
     "start_time": "2024-11-07T17:23:30.469765Z"
    }
   },
   "cell_type": "code",
   "source": "print(corpus)",
   "id": "44121d2ea3c42899",
   "outputs": [
    {
     "name": "stdout",
     "output_type": "stream",
     "text": [
      "Hello there! I am Rajib Deb. I am an AI,ML enthusiast. \n"
     ]
    }
   ],
   "execution_count": 9
  },
  {
   "metadata": {
    "ExecuteTime": {
     "end_time": "2024-11-07T17:30:59.568279Z",
     "start_time": "2024-11-07T17:30:56.452286Z"
    }
   },
   "cell_type": "code",
   "source": [
    "##Tokeniztion\n",
    "## Paragraphs --> Sentence\n",
    "from nltk.tokenize import sent_tokenize"
   ],
   "id": "cf8826a96094bcb8",
   "outputs": [],
   "execution_count": 11
  },
  {
   "metadata": {
    "ExecuteTime": {
     "end_time": "2024-11-07T17:36:31.682955Z",
     "start_time": "2024-11-07T17:36:31.671731Z"
    }
   },
   "cell_type": "code",
   "source": "sent_tokenize(corpus)",
   "id": "912f47dbbbef1bcc",
   "outputs": [
    {
     "data": {
      "text/plain": [
       "['Hello there!', 'I am Rajib Deb.', 'I am an AI,ML enthusiast.']"
      ]
     },
     "execution_count": 15,
     "metadata": {},
     "output_type": "execute_result"
    }
   ],
   "execution_count": 15
  },
  {
   "metadata": {
    "ExecuteTime": {
     "end_time": "2024-11-07T17:35:47.722186Z",
     "start_time": "2024-11-07T17:35:47.717362Z"
    }
   },
   "cell_type": "code",
   "source": "documents = sent_tokenize(corpus)",
   "id": "23aa014c4c4484c7",
   "outputs": [],
   "execution_count": 13
  },
  {
   "metadata": {
    "ExecuteTime": {
     "end_time": "2024-11-07T17:36:05.042099Z",
     "start_time": "2024-11-07T17:36:05.036499Z"
    }
   },
   "cell_type": "code",
   "source": "documents",
   "id": "259f5fe1cdd1dab0",
   "outputs": [
    {
     "data": {
      "text/plain": [
       "['Hello there!', 'I am Rajib Deb.', 'I am an AI,ML enthusiast.']"
      ]
     },
     "execution_count": 14,
     "metadata": {},
     "output_type": "execute_result"
    }
   ],
   "execution_count": 14
  },
  {
   "metadata": {
    "ExecuteTime": {
     "end_time": "2024-11-07T17:36:41.714806Z",
     "start_time": "2024-11-07T17:36:41.705750Z"
    }
   },
   "cell_type": "code",
   "source": "type(documents)",
   "id": "ac612bb67ac8da61",
   "outputs": [
    {
     "data": {
      "text/plain": [
       "list"
      ]
     },
     "execution_count": 16,
     "metadata": {},
     "output_type": "execute_result"
    }
   ],
   "execution_count": 16
  },
  {
   "metadata": {
    "ExecuteTime": {
     "end_time": "2024-11-07T17:38:25.418132Z",
     "start_time": "2024-11-07T17:38:25.404101Z"
    }
   },
   "cell_type": "code",
   "source": [
    "for sent in documents:\n",
    "    print(sent)"
   ],
   "id": "fb4d32fdd1f4bd0b",
   "outputs": [
    {
     "name": "stdout",
     "output_type": "stream",
     "text": [
      "Hello there!\n",
      "I am Rajib Deb.\n",
      "I am an AI,ML enthusiast.\n"
     ]
    }
   ],
   "execution_count": 17
  },
  {
   "metadata": {
    "ExecuteTime": {
     "end_time": "2024-11-07T17:40:56.969947Z",
     "start_time": "2024-11-07T17:40:56.960003Z"
    }
   },
   "cell_type": "code",
   "source": [
    "## Tokeniztion\n",
    "## Paragraph --> Words\n",
    "## Sentence --> Words\n",
    "from nltk.tokenize import word_tokenize"
   ],
   "id": "6cb2f6ae2333cb73",
   "outputs": [],
   "execution_count": 19
  },
  {
   "metadata": {
    "ExecuteTime": {
     "end_time": "2024-11-07T17:41:29.474457Z",
     "start_time": "2024-11-07T17:41:29.464395Z"
    }
   },
   "cell_type": "code",
   "source": "word_tokenize(corpus)",
   "id": "7d1429a46b6021a",
   "outputs": [
    {
     "data": {
      "text/plain": [
       "['Hello',\n",
       " 'there',\n",
       " '!',\n",
       " 'I',\n",
       " 'am',\n",
       " 'Rajib',\n",
       " 'Deb',\n",
       " '.',\n",
       " 'I',\n",
       " 'am',\n",
       " 'an',\n",
       " 'AI',\n",
       " ',',\n",
       " 'ML',\n",
       " 'enthusiast',\n",
       " '.']"
      ]
     },
     "execution_count": 20,
     "metadata": {},
     "output_type": "execute_result"
    }
   ],
   "execution_count": 20
  },
  {
   "metadata": {
    "ExecuteTime": {
     "end_time": "2024-11-07T17:45:29.242438Z",
     "start_time": "2024-11-07T17:45:29.229845Z"
    }
   },
   "cell_type": "code",
   "source": [
    "for sentence in documents:\n",
    "    print(word_tokenize(sentence))"
   ],
   "id": "7428062e2f37b5bf",
   "outputs": [
    {
     "name": "stdout",
     "output_type": "stream",
     "text": [
      "['Hello', 'there', '!']\n",
      "['I', 'am', 'Rajib', 'Deb', '.']\n",
      "['I', 'am', 'an', 'AI', ',', 'ML', 'enthusiast', '.']\n"
     ]
    }
   ],
   "execution_count": 21
  },
  {
   "metadata": {
    "ExecuteTime": {
     "end_time": "2024-11-07T17:47:35.824955Z",
     "start_time": "2024-11-07T17:47:35.817166Z"
    }
   },
   "cell_type": "code",
   "source": "from nltk.tokenize import wordpunct_tokenize",
   "id": "87bf273157eb4a91",
   "outputs": [],
   "execution_count": 22
  },
  {
   "metadata": {
    "ExecuteTime": {
     "end_time": "2024-11-07T17:48:06.048285Z",
     "start_time": "2024-11-07T17:48:06.038534Z"
    }
   },
   "cell_type": "code",
   "source": "wordpunct_tokenize(corpus)",
   "id": "b5c35a12330756e5",
   "outputs": [
    {
     "data": {
      "text/plain": [
       "['Hello',\n",
       " 'there',\n",
       " '!',\n",
       " 'I',\n",
       " 'am',\n",
       " 'Rajib',\n",
       " 'Deb',\n",
       " '.',\n",
       " 'I',\n",
       " 'am',\n",
       " 'an',\n",
       " 'AI',\n",
       " ',',\n",
       " 'ML',\n",
       " 'enthusiast',\n",
       " '.']"
      ]
     },
     "execution_count": 23,
     "metadata": {},
     "output_type": "execute_result"
    }
   ],
   "execution_count": 23
  },
  {
   "metadata": {
    "ExecuteTime": {
     "end_time": "2024-11-07T17:50:17.090838Z",
     "start_time": "2024-11-07T17:50:17.083988Z"
    }
   },
   "cell_type": "code",
   "source": "from nltk.tokenize import TreebankWordTokenizer",
   "id": "fd47fd09f7756a4f",
   "outputs": [],
   "execution_count": 24
  },
  {
   "metadata": {
    "ExecuteTime": {
     "end_time": "2024-11-07T18:25:09.967872Z",
     "start_time": "2024-11-07T18:25:09.922221Z"
    }
   },
   "cell_type": "code",
   "source": "token_izer= TreebankWordTokenizer()",
   "id": "2ec93efd8ea7a2b1",
   "outputs": [],
   "execution_count": 28
  },
  {
   "metadata": {
    "ExecuteTime": {
     "end_time": "2024-11-07T18:25:12.431380Z",
     "start_time": "2024-11-07T18:25:12.420244Z"
    }
   },
   "cell_type": "code",
   "source": "token_izer.tokenize(corpus)",
   "id": "a58bad76e97e6511",
   "outputs": [
    {
     "data": {
      "text/plain": [
       "['Hello',\n",
       " 'there',\n",
       " '!',\n",
       " 'I',\n",
       " 'am',\n",
       " 'Rajib',\n",
       " 'Deb.',\n",
       " 'I',\n",
       " 'am',\n",
       " 'an',\n",
       " 'AI',\n",
       " ',',\n",
       " 'ML',\n",
       " 'enthusiast',\n",
       " '.']"
      ]
     },
     "execution_count": 29,
     "metadata": {},
     "output_type": "execute_result"
    }
   ],
   "execution_count": 29
  },
  {
   "metadata": {},
   "cell_type": "code",
   "outputs": [],
   "execution_count": null,
   "source": "",
   "id": "10a48e43e5697656"
  }
 ],
 "metadata": {
  "kernelspec": {
   "display_name": "Python 3",
   "language": "python",
   "name": "python3"
  },
  "language_info": {
   "codemirror_mode": {
    "name": "ipython",
    "version": 2
   },
   "file_extension": ".py",
   "mimetype": "text/x-python",
   "name": "python",
   "nbconvert_exporter": "python",
   "pygments_lexer": "ipython2",
   "version": "2.7.6"
  }
 },
 "nbformat": 4,
 "nbformat_minor": 5
}
