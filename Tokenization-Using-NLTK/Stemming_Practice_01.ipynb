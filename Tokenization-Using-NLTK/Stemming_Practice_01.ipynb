{
 "cells": [
  {
   "metadata": {
    "ExecuteTime": {
     "end_time": "2024-11-07T18:47:35.501763Z",
     "start_time": "2024-11-07T18:47:35.497411Z"
    }
   },
   "cell_type": "code",
   "source": "from nltk.stem import PorterStemmer",
   "id": "bffb768cd1933071",
   "outputs": [],
   "execution_count": 2
  },
  {
   "metadata": {
    "ExecuteTime": {
     "end_time": "2024-11-07T18:47:51.086832Z",
     "start_time": "2024-11-07T18:47:51.079975Z"
    }
   },
   "cell_type": "code",
   "source": "stemmer = PorterStemmer()",
   "id": "ec5a5b80f7124029",
   "outputs": [],
   "execution_count": 3
  },
  {
   "metadata": {
    "ExecuteTime": {
     "end_time": "2024-11-07T18:49:08.249182Z",
     "start_time": "2024-11-07T18:49:08.244467Z"
    }
   },
   "cell_type": "code",
   "source": "corpus=\"\"\"Running Runner Ran Runs Easily Heavily fairly\"\"\"",
   "id": "8059fe942f000843",
   "outputs": [],
   "execution_count": 5
  },
  {
   "metadata": {
    "ExecuteTime": {
     "end_time": "2024-11-07T18:50:03.292243Z",
     "start_time": "2024-11-07T18:50:03.287977Z"
    }
   },
   "cell_type": "code",
   "source": "from nltk.tokenize import word_tokenize",
   "id": "1df1f813340cf255",
   "outputs": [],
   "execution_count": 6
  },
  {
   "metadata": {
    "ExecuteTime": {
     "end_time": "2024-11-07T18:50:26.632313Z",
     "start_time": "2024-11-07T18:50:26.594742Z"
    }
   },
   "cell_type": "code",
   "source": "words = word_tokenize(corpus)",
   "id": "faf47ed96bfbf853",
   "outputs": [],
   "execution_count": 7
  },
  {
   "metadata": {
    "ExecuteTime": {
     "end_time": "2024-11-07T18:53:53.933978Z",
     "start_time": "2024-11-07T18:53:53.928770Z"
    }
   },
   "cell_type": "code",
   "source": "stemmed_words = [stemmer.stem(word) for word in words]",
   "id": "d9362f5af1c46a18",
   "outputs": [],
   "execution_count": 10
  },
  {
   "metadata": {
    "ExecuteTime": {
     "end_time": "2024-11-07T20:28:50.586965Z",
     "start_time": "2024-11-07T20:28:50.503685Z"
    }
   },
   "cell_type": "code",
   "source": "print(stemmed_words)",
   "id": "6651f5500514d8a8",
   "outputs": [
    {
     "name": "stdout",
     "output_type": "stream",
     "text": [
      "['run', 'runner', 'ran', 'run', 'easili', 'heavili', 'fairli']\n"
     ]
    }
   ],
   "execution_count": 15
  },
  {
   "metadata": {
    "ExecuteTime": {
     "end_time": "2024-11-07T20:29:26.100460Z",
     "start_time": "2024-11-07T20:29:26.036294Z"
    }
   },
   "cell_type": "code",
   "source": "stemmer.stem('congratulations')",
   "id": "cf37d0fdadaff6d5",
   "outputs": [
    {
     "data": {
      "text/plain": [
       "'congratul'"
      ]
     },
     "execution_count": 16,
     "metadata": {},
     "output_type": "execute_result"
    }
   ],
   "execution_count": 16
  },
  {
   "metadata": {
    "ExecuteTime": {
     "end_time": "2024-11-07T20:30:23.032196Z",
     "start_time": "2024-11-07T20:30:23.022866Z"
    }
   },
   "cell_type": "code",
   "source": "stemmer.stem('maternal')",
   "id": "974853eb08d9e2c8",
   "outputs": [
    {
     "data": {
      "text/plain": [
       "'matern'"
      ]
     },
     "execution_count": 22,
     "metadata": {},
     "output_type": "execute_result"
    }
   ],
   "execution_count": 22
  },
  {
   "metadata": {},
   "cell_type": "markdown",
   "source": "#### RegexpStemmer Class",
   "id": "26ad12c069b500c2"
  },
  {
   "metadata": {
    "ExecuteTime": {
     "end_time": "2024-11-08T22:11:16.812854Z",
     "start_time": "2024-11-08T22:11:16.806493Z"
    }
   },
   "cell_type": "code",
   "source": "from nltk.stem import RegexpStemmer",
   "id": "95f639276e840c03",
   "outputs": [],
   "execution_count": 27
  },
  {
   "metadata": {
    "ExecuteTime": {
     "end_time": "2024-11-08T22:11:17.166421Z",
     "start_time": "2024-11-08T22:11:17.153642Z"
    }
   },
   "cell_type": "code",
   "source": "pattern = r'(ing|ed|ly)&'",
   "id": "98dafb29c7277fe9",
   "outputs": [],
   "execution_count": 28
  },
  {
   "metadata": {
    "ExecuteTime": {
     "end_time": "2024-11-08T22:11:17.437189Z",
     "start_time": "2024-11-08T22:11:17.433531Z"
    }
   },
   "cell_type": "code",
   "source": "stemmer = RegexpStemmer(pattern)",
   "id": "718cff02806023c2",
   "outputs": [],
   "execution_count": 29
  },
  {
   "metadata": {
    "ExecuteTime": {
     "end_time": "2024-11-08T22:11:17.726177Z",
     "start_time": "2024-11-08T22:11:17.715509Z"
    }
   },
   "cell_type": "code",
   "source": "words = [\"running\", \"played\", \"quickly\", \"joyfully\", \"cat\"]",
   "id": "a0a623bdc8438eed",
   "outputs": [],
   "execution_count": 30
  },
  {
   "metadata": {
    "ExecuteTime": {
     "end_time": "2024-11-08T22:11:18.698424Z",
     "start_time": "2024-11-08T22:11:18.692267Z"
    }
   },
   "cell_type": "code",
   "source": "stemmed_words = [stemmer.stem(word) for word in words]",
   "id": "3b7a136b14043622",
   "outputs": [],
   "execution_count": 31
  },
  {
   "metadata": {
    "ExecuteTime": {
     "end_time": "2024-11-08T22:11:19.188049Z",
     "start_time": "2024-11-08T22:11:19.172387Z"
    }
   },
   "cell_type": "code",
   "source": "print(stemmed_words)",
   "id": "1c37c85309124023",
   "outputs": [
    {
     "name": "stdout",
     "output_type": "stream",
     "text": [
      "['running', 'played', 'quickly', 'joyfully', 'cat']\n"
     ]
    }
   ],
   "execution_count": 32
  },
  {
   "metadata": {
    "ExecuteTime": {
     "end_time": "2024-11-08T22:11:20.272550Z",
     "start_time": "2024-11-08T22:11:20.260922Z"
    }
   },
   "cell_type": "code",
   "source": "pattern1 = r'^(un|re)'",
   "id": "ca377822432256f1",
   "outputs": [],
   "execution_count": 33
  },
  {
   "metadata": {
    "ExecuteTime": {
     "end_time": "2024-11-08T22:11:56.714232Z",
     "start_time": "2024-11-08T22:11:56.707262Z"
    }
   },
   "cell_type": "code",
   "source": "stemmer1 = RegexpStemmer(pattern1,min=5)",
   "id": "ac2636b000c0ea67",
   "outputs": [],
   "execution_count": 46
  },
  {
   "metadata": {
    "ExecuteTime": {
     "end_time": "2024-11-08T22:11:57.048346Z",
     "start_time": "2024-11-08T22:11:57.044181Z"
    }
   },
   "cell_type": "code",
   "source": "words1 = [\"undo\", \"redo\", \"unanimously\", \"unknown\", \"replay\", \"relay\"]",
   "id": "baca85c1c32c3fed",
   "outputs": [],
   "execution_count": 47
  },
  {
   "metadata": {
    "ExecuteTime": {
     "end_time": "2024-11-08T22:11:57.389082Z",
     "start_time": "2024-11-08T22:11:57.376875Z"
    }
   },
   "cell_type": "code",
   "source": [
    "for word in words1:\n",
    "    print(stemmer1.stem(word))"
   ],
   "id": "1c9c972f469b3248",
   "outputs": [
    {
     "name": "stdout",
     "output_type": "stream",
     "text": [
      "undo\n",
      "redo\n",
      "animously\n",
      "known\n",
      "play\n",
      "lay\n"
     ]
    }
   ],
   "execution_count": 48
  },
  {
   "metadata": {},
   "cell_type": "code",
   "outputs": [],
   "execution_count": null,
   "source": "",
   "id": "fa1cc5562b778700"
  }
 ],
 "metadata": {
  "kernelspec": {
   "display_name": "Python 3",
   "language": "python",
   "name": "python3"
  },
  "language_info": {
   "codemirror_mode": {
    "name": "ipython",
    "version": 2
   },
   "file_extension": ".py",
   "mimetype": "text/x-python",
   "name": "python",
   "nbconvert_exporter": "python",
   "pygments_lexer": "ipython2",
   "version": "2.7.6"
  }
 },
 "nbformat": 4,
 "nbformat_minor": 5
}
