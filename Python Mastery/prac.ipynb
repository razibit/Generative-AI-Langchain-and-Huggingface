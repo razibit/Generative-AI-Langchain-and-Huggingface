{
 "cells": [
  {
   "metadata": {},
   "cell_type": "code",
   "source": [
    "#arithmatic operations\n",
    "a=10\n",
    "b=6\n",
    "result = a+b\n",
    "mul_result = a*b\n",
    "div_result = a/b\n",
    "floor_div_result = a//b\n",
    "modulus_result = a%b\n",
    "exponent_result = a**b\n",
    "print(result)\n",
    "print(mul_result)\n",
    "print(div_result)\n",
    "print(floor_div_result)\n",
    "print(modulus_result)\n",
    "print(exponent_result)"
   ],
   "id": "d484fd033d63877e",
   "outputs": [],
   "execution_count": null
  },
  {
   "metadata": {
    "ExecuteTime": {
     "end_time": "2024-11-03T22:57:06.956176Z",
     "start_time": "2024-11-03T22:57:06.947271Z"
    }
   },
   "cell_type": "code",
   "source": [
    "str01= \"Rajeev\"\n",
    "str02 = \"rajeev\"\n",
    "str01==str02"
   ],
   "id": "deaafd7398d41233",
   "outputs": [
    {
     "data": {
      "text/plain": [
       "False"
      ]
     },
     "execution_count": 16,
     "metadata": {},
     "output_type": "execute_result"
    }
   ],
   "execution_count": 16
  },
  {
   "metadata": {
    "ExecuteTime": {
     "end_time": "2024-11-03T23:08:46.855542Z",
     "start_time": "2024-11-03T23:08:46.827526Z"
    }
   },
   "cell_type": "code",
   "source": "str01!=str02",
   "id": "ad6432622814f729",
   "outputs": [
    {
     "data": {
      "text/plain": [
       "True"
      ]
     },
     "execution_count": 21,
     "metadata": {},
     "output_type": "execute_result"
    }
   ],
   "execution_count": 21
  },
  {
   "metadata": {
    "ExecuteTime": {
     "end_time": "2024-11-03T23:16:02.425163Z",
     "start_time": "2024-11-03T23:16:02.415455Z"
    }
   },
   "cell_type": "code",
   "source": [
    "X = False\n",
    "print(not X)"
   ],
   "id": "f6996ed46f73ca17",
   "outputs": [
    {
     "name": "stdout",
     "output_type": "stream",
     "text": [
      "True\n"
     ]
    }
   ],
   "execution_count": 23
  },
  {
   "metadata": {},
   "cell_type": "code",
   "outputs": [],
   "execution_count": null,
   "source": "",
   "id": "90fdf7bd27c991b9"
  }
 ],
 "metadata": {
  "kernelspec": {
   "display_name": "Python 3",
   "language": "python",
   "name": "python3"
  },
  "language_info": {
   "codemirror_mode": {
    "name": "ipython",
    "version": 2
   },
   "file_extension": ".py",
   "mimetype": "text/x-python",
   "name": "python",
   "nbconvert_exporter": "python",
   "pygments_lexer": "ipython2",
   "version": "2.7.6"
  }
 },
 "nbformat": 4,
 "nbformat_minor": 5
}
