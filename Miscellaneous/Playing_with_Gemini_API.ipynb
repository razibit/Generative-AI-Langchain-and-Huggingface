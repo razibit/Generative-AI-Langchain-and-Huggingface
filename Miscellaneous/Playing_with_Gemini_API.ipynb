{
 "cells": [
  {
   "cell_type": "code",
   "execution_count": null,
   "metadata": {},
   "outputs": [],
   "source": [
    "from dotenv import load_dotenv\n",
    "import os\n",
    "\n",
    "load_dotenv(dotenv_path=r'G:\\AI Kitchen\\Complete Generative AI Course With Langchain and Huggingface\\Miscellaneous\\secrets.env')\n",
    "\n",
    "gemini_api_key = os.getenv(\"GEMINI_API_KEY\")\n",
    "\n",
    "print(\"API Key:\", gemini_api_key)"
   ]
  },
  {
   "cell_type": "code",
   "execution_count": null,
   "metadata": {},
   "outputs": [],
   "source": [
    " pip install -q -U google-generativeai"
   ]
  },
  {
   "cell_type": "code",
   "execution_count": 2,
   "metadata": {},
   "outputs": [],
   "source": [
    "import pathlib\n",
    "import textwrap\n",
    "import google.generativeai as genai\n",
    "\n",
    "from IPython.display import display\n",
    "from IPython.display import Markdown\n",
    "\n",
    "def to_markdown(text):\n",
    "    text = text.replace('.', ' *')\n",
    "    return Markdown(textwrap.indent(text, '> ', predicate=lambda _: True))"
   ]
  },
  {
   "cell_type": "code",
   "execution_count": null,
   "metadata": {},
   "outputs": [],
   "source": [
    "models = genai.list_models()\n",
    "print(\"Models:\", models)\n",
    "\n",
    "for m in models:\n",
    "    print(\"Model:\", m)\n",
    "    if 'generatedContent' in m.supported_generation_methods:\n",
    "        print(\"Supported Model:\", m.name)"
   ]
  },
  {
   "cell_type": "code",
   "execution_count": 15,
   "metadata": {},
   "outputs": [],
   "source": [
    "model = genai.GenerativeModel('gemini-pro')"
   ]
  },
  {
   "cell_type": "code",
   "execution_count": 16,
   "metadata": {},
   "outputs": [
    {
     "data": {
      "text/plain": [
       "genai.GenerativeModel(\n",
       "    model_name='models/gemini-pro',\n",
       "    generation_config={},\n",
       "    safety_settings={},\n",
       "    tools=None,\n",
       "    system_instruction=None,\n",
       "    cached_content=None\n",
       ")"
      ]
     },
     "execution_count": 16,
     "metadata": {},
     "output_type": "execute_result"
    }
   ],
   "source": [
    "model"
   ]
  },
  {
   "cell_type": "code",
   "execution_count": 27,
   "metadata": {},
   "outputs": [
    {
     "name": "stdout",
     "output_type": "stream",
     "text": [
      "CPU times: total: 0 ns\n",
      "Wall time: 3.19 s\n"
     ]
    }
   ],
   "source": [
    "%%time\n",
    "response = model.generate_content(\"What is the meaning of life tell me?\")"
   ]
  },
  {
   "cell_type": "code",
   "execution_count": 33,
   "metadata": {},
   "outputs": [
    {
     "data": {
      "text/markdown": [
       "> The meaning of life is a deep philosophical question that has been pondered by humans for centuries * There is no single definitive answer, as it is a personal and subjective matter * However, there are many different perspectives on the meaning of life, and some of the most common include:\n",
       "> \n",
       "> * To find happiness and fulfillment *\n",
       "> * To make a difference in the world *\n",
       "> * To learn and grow as a person *\n",
       "> * To connect with others and build relationships *\n",
       "> * To experience the beauty and wonder of life *\n",
       "> * To find a sense of purpose and direction *\n",
       "> * To live in accordance with one's values and beliefs *\n",
       "> * To make the most of the time we have *\n",
       "> \n",
       "> Ultimately, the meaning of life is what you make it * It is a journey of self-discovery and exploration, and it is up to each individual to find their own unique meaning *"
      ],
      "text/plain": [
       "<IPython.core.display.Markdown object>"
      ]
     },
     "execution_count": 33,
     "metadata": {},
     "output_type": "execute_result"
    }
   ],
   "source": [
    "to_markdown(response.text)"
   ]
  },
  {
   "cell_type": "code",
   "execution_count": 34,
   "metadata": {},
   "outputs": [
    {
     "data": {
      "text/plain": []
     },
     "execution_count": 34,
     "metadata": {},
     "output_type": "execute_result"
    }
   ],
   "source": [
    "response.prompt_feedback"
   ]
  },
  {
   "cell_type": "code",
   "execution_count": 36,
   "metadata": {},
   "outputs": [
    {
     "name": "stdout",
     "output_type": "stream",
     "text": [
      "CPU times: total: 0 ns\n",
      "Wall time: 1.13 s\n"
     ]
    }
   ],
   "source": [
    "%%time\n",
    "response = model.generate_content(\"Whats the future of AI?\", stream = True)"
   ]
  },
  {
   "cell_type": "code",
   "execution_count": 39,
   "metadata": {},
   "outputs": [
    {
     "name": "stdout",
     "output_type": "stream",
     "text": [
      "**Long-Term (20+ years)**\n",
      "\n",
      "* **Artificial General Intelligence\n",
      "________________________________________________________________________________\n",
      " (AGI)**: AI systems with human-like intelligence capable of learning, reasoning, and solving complex problems across multiple domains.\n",
      "* **Human-AI Symb\n",
      "________________________________________________________________________________\n",
      "iosis**: Seamless integration and collaboration between humans and AI, augmenting human capabilities and creating new possibilities.\n",
      "* **Personalized AI Assistants**: AI-powered personal assistants that tailor experiences, provide real-time support, and automate tasks to an unprecedented level.\n",
      "* **Autonomous Systems**: AI-enabled systems that can operate independently\n",
      "________________________________________________________________________________\n",
      " in complex environments, making decisions and taking actions without human intervention.\n",
      "* **Quantum Machine Learning**: Exploitation of quantum computing to accelerate machine learning algorithms and solve problems intractable for classical computers.\n",
      "\n",
      "**Medium-Term (10-20 years)**\n",
      "\n",
      "* **Explainable AI**: Development of AI systems that can provide clear explanations for their decisions and predictions, fostering trust and understanding.\n",
      "* **Adaptive Learning**: AI systems that can continuously learn, adapt to changing data, and improve their performance over time.\n",
      "* **Natural Language Processing**: AI with advanced capabilities in processing, understanding, and generating human language, enabling seamless human-AI\n",
      "________________________________________________________________________________\n",
      " communication.\n",
      "* **Blockchain-Enabled AI**: Integration of blockchain technology with AI to enhance security, data privacy, and accountability.\n",
      "* **AI-Assisted Healthcare**: AI playing a transformative role in disease diagnosis, personalized treatment plans, and drug discovery.\n",
      "\n",
      "**Short-Term (5-10 years)**\n",
      "\n",
      "* **Improved Data Privacy and Security**: AI-powered data protection and cyber defense systems safeguarding sensitive information.\n",
      "* **AI-Optimized Manufacturing**: AI automating and optimizing manufacturing processes, increasing efficiency and reducing costs.\n",
      "* **Voice-Controlled Interfaces**: AI enabling seamless voice control for various devices and applications, enhancing accessibility and user experience.\n",
      "* **Facial and Emotional Recognition**: AI with advanced capabilities in identifying and interpreting facial expressions and emotions, enhancing human interaction.\n",
      "* **Smart Cities**: AI-powered infrastructure and services optimizing urban environments, improving transportation, energy efficiency, and public safety.\n",
      "\n",
      "**Key Trends and Advancements:**\n",
      "\n",
      "* **Cloud and Edge Computing**: Enabling scalable and real-time AI applications.\n",
      "* **Synthetic Data**: Generating realistic and diverse data for training AI models.\n",
      "* **Federated Learning**: Collaborative AI training using data from multiple devices without compromising privacy.\n",
      "* **Ethical and Responsible AI**: Ensuring that AI systems are fair\n",
      "________________________________________________________________________________\n",
      ", unbiased, and promote human well-being.\n",
      "* **International Collaboration**: Fostering global cooperation to advance AI development and address societal implications.\n",
      "________________________________________________________________________________\n"
     ]
    }
   ],
   "source": [
    "for chunk in response:\n",
    "    print(chunk.text)\n",
    "    print(\"_\"*80)"
   ]
  },
  {
   "cell_type": "code",
   "execution_count": 41,
   "metadata": {},
   "outputs": [
    {
     "name": "stderr",
     "output_type": "stream",
     "text": [
      "  % Total    % Received % Xferd  Average Speed   Time    Time     Time  Current\n",
      "                                 Dload  Upload   Total   Spent    Left  Speed\n",
      "\n",
      "  0     0    0     0    0     0      0      0 --:--:-- --:--:-- --:--:--     0\n",
      "  0 25130    0     0    0     0      0      0 --:--:-- --:--:-- --:--:--     0\n",
      "100 25130  100 25130    0     0  45802      0 --:--:-- --:--:-- --:--:-- 46365\n"
     ]
    }
   ],
   "source": [
    "!curl -o image.jpg https://rajibdab.me/projects/AI-Powered-Real-Time-Altitude-Tracking-for-Sports-Performance-Analysis/AI-Powered-Real-Time-Altitude-Tracking-for-Sports-Performance-Analysis.png"
   ]
  },
  {
   "cell_type": "code",
   "execution_count": 42,
   "metadata": {},
   "outputs": [
    {
     "data": {
      "image/png": "[encoded data removed]",
      "text/plain": [
       "<PIL.PngImagePlugin.PngImageFile image mode=P size=1100x874>"
      ]
     },
     "execution_count": 42,
     "metadata": {},
     "output_type": "execute_result"
    }
   ],
   "source": [
    "import PIL.Image\n",
    "img = PIL.Image.open('image.jpg')\n",
    "img"
   ]
  },
  {
   "cell_type": "code",
   "execution_count": 62,
   "metadata": {},
   "outputs": [],
   "source": [
    "model = genai.GenerativeModel('gemini-exp-1206')"
   ]
  },
  {
   "cell_type": "code",
   "execution_count": 63,
   "metadata": {},
   "outputs": [
    {
     "data": {
      "text/markdown": [
       "> The image depicts a scenario with a balloon 50 meters above a device on the ground * A panel on the right displays the following information:\n",
       "> \n",
       "> *   **Altitude:** 50m\n",
       "> *   **Velocity:** 5km/s\n",
       "> *   **Initial Velocity:** 5km/s\n",
       "> \n",
       "> The device on the ground appears to be tracking or interacting with the balloon, as indicated by the dotted line and arrow * The setup suggests a measurement or experiment involving the balloon's altitude and velocity *"
      ],
      "text/plain": [
       "<IPython.core.display.Markdown object>"
      ]
     },
     "execution_count": 63,
     "metadata": {},
     "output_type": "execute_result"
    }
   ],
   "source": [
    "response = model.generate_content(img)\n",
    "to_markdown(response.text)"
   ]
  },
  {
   "cell_type": "code",
   "execution_count": 77,
   "metadata": {},
   "outputs": [],
   "source": [
    "response = model.generate_content([\"Write a short, engaging blog post based on this picture.\", img], stream = True)"
   ]
  },
  {
   "cell_type": "code",
   "execution_count": 78,
   "metadata": {},
   "outputs": [
    {
     "data": {
      "text/markdown": [
       "> Okay"
      ],
      "text/plain": [
       "<IPython.core.display.Markdown object>"
      ]
     },
     "metadata": {},
     "output_type": "display_data"
    },
    {
     "data": {
      "text/markdown": [
       "> , here's a short, engaging blog post based on the image you provided"
      ],
      "text/plain": [
       "<IPython.core.display.Markdown object>"
      ]
     },
     "metadata": {},
     "output_type": "display_data"
    },
    {
     "data": {
      "text/markdown": [
       "> :\n",
       "> \n",
       "> **Is it a Bird? Is it a Plane? No, it"
      ],
      "text/plain": [
       "<IPython.core.display.Markdown object>"
      ]
     },
     "metadata": {},
     "output_type": "display_data"
    },
    {
     "data": {
      "text/markdown": [
       "> 's a Balloon!**\n",
       "> \n",
       "> Ever wondered what goes on behind the scenes of those cool gadgets that capture amazing aerial footage? This diagram gives us a sneak peek"
      ],
      "text/plain": [
       "<IPython.core.display.Markdown object>"
      ]
     },
     "metadata": {},
     "output_type": "display_data"
    },
    {
     "data": {
      "text/markdown": [
       "> ! We've got a balloon soaring at an altitude of 50 meters, and some kind of device (maybe a camera or sensor?) on the ground"
      ],
      "text/plain": [
       "<IPython.core.display.Markdown object>"
      ]
     },
     "metadata": {},
     "output_type": "display_data"
    },
    {
     "data": {
      "text/markdown": [
       ">  tracking it *\n",
       "> \n",
       "> The balloon is moving at a velocity of 5 km/s, and the tracking device had the same initial velocity * It seems like the device is designed to follow the balloon's movements, maybe keeping it in frame"
      ],
      "text/plain": [
       "<IPython.core.display.Markdown object>"
      ]
     },
     "metadata": {},
     "output_type": "display_data"
    },
    {
     "data": {
      "text/markdown": [
       ">  for a perfect shot or collecting data about its flight *\n",
       "> \n",
       "> This simple setup has big implications! Think about the possibilities:\n",
       "> \n",
       "> *   **Aerial photography and videography:** Capturing stunning views from above *\n",
       "> *   **Weather monitoring:**"
      ],
      "text/plain": [
       "<IPython.core.display.Markdown object>"
      ]
     },
     "metadata": {},
     "output_type": "display_data"
    },
    {
     "data": {
      "text/markdown": [
       ">  Gathering data on atmospheric conditions *\n",
       "> *   **Surveillance:** Keeping an eye on things from a distance *\n",
       "> \n",
       "> What other uses can you imagine for this balloon and tracker combo? Let us know in the comments!\n"
      ],
      "text/plain": [
       "<IPython.core.display.Markdown object>"
      ]
     },
     "metadata": {},
     "output_type": "display_data"
    }
   ],
   "source": [
    "for chunk in response:\n",
    "    if hasattr(chunk, 'text'):\n",
    "        display(to_markdown(chunk.text))\n",
    "    else:\n",
    "        print(\"No 'text' attribute found in chunk:\", chunk)"
   ]
  },
  {
   "cell_type": "code",
   "execution_count": null,
   "metadata": {},
   "outputs": [],
   "source": []
  }
 ],
 "metadata": {
  "kernelspec": {
   "display_name": "Python 3",
   "language": "python",
   "name": "python3"
  },
  "language_info": {
   "codemirror_mode": {
    "name": "ipython",
    "version": 3
   },
   "file_extension": ".py",
   "mimetype": "text/x-python",
   "name": "python",
   "nbconvert_exporter": "python",
   "pygments_lexer": "ipython3",
   "version": "3.12.5"
  }
 },
 "nbformat": 4,
 "nbformat_minor": 2
}
